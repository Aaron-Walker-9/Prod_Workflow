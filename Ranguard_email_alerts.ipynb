{
 "cells": [
  {
   "cell_type": "code",
   "execution_count": null,
   "id": "a2db2984",
   "metadata": {},
   "outputs": [],
   "source": []
  },
  {
   "cell_type": "code",
   "execution_count": null,
   "id": "8d245620",
   "metadata": {},
   "outputs": [
    {
     "name": "stderr",
     "output_type": "stream",
     "text": [
      "send: 'mail FROM:<azzagold99@gmail.com> size=775\\r\\n'\n",
      "reply: b'250 2.1.0 OK 5b1f17b1804b1-45b66b6985bsm36488295e9.2 - gsmtp\\r\\n'\n",
      "reply: retcode (250); Msg: b'2.1.0 OK 5b1f17b1804b1-45b66b6985bsm36488295e9.2 - gsmtp'\n",
      "send: 'rcpt TO:<azzagold99@gmail.com>\\r\\n'\n",
      "reply: b'250 2.1.5 OK 5b1f17b1804b1-45b66b6985bsm36488295e9.2 - gsmtp\\r\\n'\n",
      "reply: retcode (250); Msg: b'2.1.5 OK 5b1f17b1804b1-45b66b6985bsm36488295e9.2 - gsmtp'\n",
      "send: 'data\\r\\n'\n",
      "reply: b'354 Go ahead 5b1f17b1804b1-45b66b6985bsm36488295e9.2 - gsmtp\\r\\n'\n",
      "reply: retcode (354); Msg: b'Go ahead 5b1f17b1804b1-45b66b6985bsm36488295e9.2 - gsmtp'\n",
      "data: (354, b'Go ahead 5b1f17b1804b1-45b66b6985bsm36488295e9.2 - gsmtp')\n",
      "send: b'Content-Type: multipart/mixed; boundary=\"===============2262608573621364549==\"\\r\\nMIME-Version: 1.0\\r\\nFrom: azzagold99@gmail.com\\r\\nTo: azzagold99@gmail.com\\r\\nSubject: Ranguard: Anomaly Report\\r\\n\\r\\n--===============2262608573621364549==\\r\\nContent-Type: text/html; charset=\"us-ascii\"\\r\\nMIME-Version: 1.0\\r\\nContent-Transfer-Encoding: 7bit\\r\\n\\r\\n\\r\\n<p>Ranguard analysis data:</p>\\r\\n<table border=\"1\" class=\"dataframe\">\\r\\n  <thead>\\r\\n    <tr style=\"text-align: right;\">\\r\\n      <th>Siteid</th>\\r\\n      <th>Anomaly scores</th>\\r\\n      <th>Class</th>\\r\\n    </tr>\\r\\n  </thead>\\r\\n  <tbody>\\r\\n    <tr>\\r\\n      <td>1</td>\\r\\n      <td>3</td>\\r\\n      <td>5</td>\\r\\n    </tr>\\r\\n    <tr>\\r\\n      <td>2</td>\\r\\n      <td>4</td>\\r\\n      <td>6</td>\\r\\n    </tr>\\r\\n  </tbody>\\r\\n</table>\\r\\n\\r\\n--===============2262608573621364549==--\\r\\n.\\r\\n'\n"
     ]
    },
    {
     "name": "stdout",
     "output_type": "stream",
     "text": [
      "email has been sent to azzagold99@gmail.com\n"
     ]
    },
    {
     "name": "stderr",
     "output_type": "stream",
     "text": [
      "reply: b'250 2.0.0 OK  1756293353 5b1f17b1804b1-45b66b6985bsm36488295e9.2 - gsmtp\\r\\n'\n",
      "reply: retcode (250); Msg: b'2.0.0 OK  1756293353 5b1f17b1804b1-45b66b6985bsm36488295e9.2 - gsmtp'\n",
      "data: (250, b'2.0.0 OK  1756293353 5b1f17b1804b1-45b66b6985bsm36488295e9.2 - gsmtp')\n",
      "send: 'quit\\r\\n'\n",
      "reply: b'221 2.0.0 closing connection 5b1f17b1804b1-45b66b6985bsm36488295e9.2 - gsmtp\\r\\n'\n",
      "reply: retcode (221); Msg: b'2.0.0 closing connection 5b1f17b1804b1-45b66b6985bsm36488295e9.2 - gsmtp'\n"
     ]
    }
   ],
   "source": [
    "import smtplib\n",
    "import pandas as pd\n",
    "from email.mime.multipart import MIMEMultipart\n",
    "from email.mime.text import MIMEText\n",
    "\n",
    "\n",
    "#email = prompt(\"Sennder email address: \")\n",
    "#revieiver_email = input(\"Reviever email address:\")\n",
    "email = \"azzagold99@gmail.com\"\n",
    "app_password = \"\"\n",
    "revieiver_email = \"azzagold99@gmail.com\"\n",
    "\n",
    "df = pd.DataFrame({\n",
    "    \"Siteid\": [1, 2],\n",
    "    \"Anomaly scores\": [3, 4],\n",
    "    \"Class\": [5, 6]\n",
    "})\n",
    "\n",
    "# Convert DataFrame to HTML table\n",
    "html_table = df.to_html(index=False, border=1)\n",
    "\n",
    "# Build MIME email\n",
    "subject = \"Ranguard: Anomaly Report\"\n",
    "msg = MIMEMultipart()\n",
    "msg[\"From\"] = email\n",
    "msg[\"To\"] = revieiver_email\n",
    "msg[\"Subject\"] = subject\n",
    "\n",
    "body = f\"\"\"\n",
    "<p>Ranguard analysis data:</p>\n",
    "{html_table}\n",
    "\"\"\"\n",
    "msg.attach(MIMEText(body, \"html\"))\n",
    "\n",
    "\n",
    "server= smtplib.SMTP(\"smtp.gmail.com\",587) \n",
    "server.starttls()\n",
    "\n",
    "server.login(email, app_password)\n",
    "server.set_debuglevel(1)\n",
    "\n",
    "server.sendmail(email, revieiver_email, msg.as_string())\n",
    "server.quit()\n",
    "print(\"email has been sent to \"+ revieiver_email)"
   ]
  }
 ],
 "metadata": {
  "kernelspec": {
   "display_name": "Python 3",
   "language": "python",
   "name": "python3"
  },
  "language_info": {
   "codemirror_mode": {
    "name": "ipython",
    "version": 3
   },
   "file_extension": ".py",
   "mimetype": "text/x-python",
   "name": "python",
   "nbconvert_exporter": "python",
   "pygments_lexer": "ipython3",
   "version": "3.11.1"
  }
 },
 "nbformat": 4,
 "nbformat_minor": 5
}
